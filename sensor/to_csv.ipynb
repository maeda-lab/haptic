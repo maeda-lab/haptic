{
 "cells": [
  {
   "cell_type": "code",
   "execution_count": null,
   "metadata": {},
   "outputs": [],
   "source": [
    "import os\n",
    "import glob\n",
    "import csv\n",
    "import numpy as np"
   ]
  },
  {
   "cell_type": "code",
   "execution_count": null,
   "metadata": {},
   "outputs": [],
   "source": [
    "#f = open(r\"\\\\FS1\\Maedalab\\home\\junjie-hua\\wave\\fourD_sensor\\rawdata\\20191101\\test1_belly\\Height\\Height Row 0000.data\",mode='rb')#0列目\n",
    "#topo = np.fromfile(f, dtype='float64',sep='').reshape(512,10000)\n",
    "\n",
    "\n"
   ]
  },
  {
   "cell_type": "code",
   "execution_count": null,
   "metadata": {},
   "outputs": [],
   "source": [
    "#print(topo)\n",
    "#print(type(topo))"
   ]
  },
  {
   "cell_type": "code",
   "execution_count": null,
   "metadata": {},
   "outputs": [],
   "source": [
    "\"\"\"\n",
    "path_read = \"//FS1//Maedalab//home//junjie-hua//wave//fourD_sensor//rawdata//20191101//test1_belly//Height\" #faulder\n",
    "#files= os.listdir(path_read) #all files in the faulder\n",
    "path_write = \"//FS1//Maedalab//home//junjie-hua//wave//fourD_sensor//csv//test1_belly\"\n",
    "\n",
    "n = 0\n",
    "os.chdir(\"//FS1//Maedalab//home//junjie-hua//wave//fourD_sensor//rawdata//20191101//test1_belly//Height\")\n",
    "for file_read in glob.glob(\"*.data\"):     \n",
    "    f = open(path_read + \"//\" + file_read ,mode='rb')#n列目\n",
    "    name='topo'+str(n)  \n",
    "    locals()['topo'+str(n)]= np.fromfile(f, dtype='>d',sep='').reshape(256,20000)\n",
    "    \n",
    "    portion = os.path.splitext(file_read)\n",
    "    if portion[1] == \".data\":  \n",
    "        file_write = portion[0] + \".csv\"   \n",
    "    #print(file_write)\n",
    "    with open(path_write + \"//\" + file_write,\"w\") as csvfile: \n",
    "        writer = csv.writer(csvfile)\n",
    "        writer.writerows(locals()['topo'+str(n)])\n",
    "    print(file_write,\" transport has ended\")\n",
    "    n = n + 1 \n",
    "     \n",
    "print(n,\"files transport has all ended\")\n",
    "\"\"\""
   ]
  },
  {
   "cell_type": "code",
   "execution_count": null,
   "metadata": {},
   "outputs": [],
   "source": [
    "\"\"\"\n",
    "path_read = \"//FS1//Maedalab//home//junjie-hua//wave//fourD_sensor//rawdata//20191101//test2_display_surface//Height\" #faulder\n",
    "#files= os.listdir(path_read) #all files in the faulder\n",
    "path_write = \"//FS1//Maedalab//home//junjie-hua//wave//fourD_sensor//csv//test2_display_surface\"\n",
    "\n",
    "n = 0\n",
    "os.chdir(\"//FS1//Maedalab//home//junjie-hua//wave//fourD_sensor//rawdata//20191101//test2_display_surface//Height\")\n",
    "for file_read in glob.glob(\"*.data\"):     \n",
    "    f = open(path_read + \"//\" + file_read ,mode='rb')#n列目\n",
    "    name='topo'+str(n)  \n",
    "    locals()['topo'+str(n)]= np.fromfile(f, dtype='>d',sep='').reshape(512,16666)\n",
    "    \n",
    "    portion = os.path.splitext(file_read)\n",
    "    if portion[1] == \".data\":  \n",
    "        file_write = portion[0] + \".csv\"   \n",
    "    #print(file_write)\n",
    "    with open(path_write + \"//\" + file_write,\"w\") as csvfile: \n",
    "        writer = csv.writer(csvfile)\n",
    "        writer.writerows(locals()['topo'+str(n)])\n",
    "    print(file_write,\" transport has ended\")\n",
    "    n = n + 1 \n",
    "     \n",
    "print(n,\"files transport has all ended\")\n",
    "\"\"\"\n"
   ]
  },
  {
   "cell_type": "code",
   "execution_count": null,
   "metadata": {},
   "outputs": [],
   "source": [
    "path_read = \"//FS1//Maedalab//home//junjie-hua//wave//fourD_sensor//rawdata//20191101//test3_sensor_surface//Height\" #faulder\n",
    "#files= os.listdir(path_read) #all files in the faulder\n",
    "path_write = \"//FS1//Maedalab//home//junjie-hua//wave//fourD_sensor//csv//test3_sensor_surface\"\n",
    "\n",
    "n = 0\n",
    "os.chdir(\"//FS1//Maedalab//home//junjie-hua//wave//fourD_sensor//rawdata//20191101//test3_sensor_surface//Height\")\n",
    "for file_read in glob.glob(\"*.data\"):     \n",
    "    f = open(path_read + \"//\" + file_read ,mode='rb')#n列目\n",
    "    name='topo'+str(n)  \n",
    "    locals()['topo'+str(n)]= np.fromfile(f, dtype='>d',sep='').reshape(512,16666)\n",
    "    \n",
    "    portion = os.path.splitext(file_read)\n",
    "    if portion[1] == \".data\":  \n",
    "        file_write = portion[0] + \".csv\"   \n",
    "    #print(file_write)\n",
    "    with open(path_write + \"//\" + file_write,\"w\") as csvfile: \n",
    "        writer = csv.writer(csvfile)\n",
    "        writer.writerows(locals()['topo'+str(n)])\n",
    "    print(file_write,\" transport has ended\")\n",
    "    n = n + 1 \n",
    "     \n",
    "print(n,\"files transport has all ended\")\n"
   ]
  }
 ],
 "metadata": {
  "kernelspec": {
   "display_name": "Python 3",
   "language": "python",
   "name": "python3"
  },
  "language_info": {
   "codemirror_mode": {
    "name": "ipython",
    "version": 3
   },
   "file_extension": ".py",
   "mimetype": "text/x-python",
   "name": "python",
   "nbconvert_exporter": "python",
   "pygments_lexer": "ipython3",
   "version": "3.6.4"
  }
 },
 "nbformat": 4,
 "nbformat_minor": 2
}
