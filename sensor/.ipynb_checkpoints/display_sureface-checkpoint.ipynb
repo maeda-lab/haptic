{
 "cells": [
  {
   "cell_type": "code",
   "execution_count": 1,
   "metadata": {},
   "outputs": [
    {
     "ename": "KeyboardInterrupt",
     "evalue": "",
     "output_type": "error",
     "traceback": [
      "\u001b[1;31m---------------------------------------------------------------------------\u001b[0m",
      "\u001b[1;31mKeyboardInterrupt\u001b[0m                         Traceback (most recent call last)",
      "\u001b[1;32m<ipython-input-1-d6aa8a8d3186>\u001b[0m in \u001b[0;36m<module>\u001b[1;34m()\u001b[0m\n\u001b[0;32m     13\u001b[0m \u001b[1;32mimport\u001b[0m \u001b[0mmatplotlib\u001b[0m\u001b[1;33m.\u001b[0m\u001b[0mpyplot\u001b[0m \u001b[1;32mas\u001b[0m \u001b[0mplt\u001b[0m\u001b[1;33m\u001b[0m\u001b[0m\n\u001b[0;32m     14\u001b[0m \u001b[1;32mfrom\u001b[0m \u001b[0mmpl_toolkits\u001b[0m\u001b[1;33m.\u001b[0m\u001b[0mmplot3d\u001b[0m \u001b[1;32mimport\u001b[0m \u001b[0mAxes3D\u001b[0m\u001b[1;33m\u001b[0m\u001b[0m\n\u001b[1;32m---> 15\u001b[1;33m \u001b[1;32mimport\u001b[0m \u001b[0mcv2\u001b[0m\u001b[1;33m\u001b[0m\u001b[0m\n\u001b[0m\u001b[0;32m     16\u001b[0m \u001b[1;32mfrom\u001b[0m \u001b[0mscipy\u001b[0m\u001b[1;33m.\u001b[0m\u001b[0mfftpack\u001b[0m \u001b[1;32mimport\u001b[0m \u001b[0mfft\u001b[0m\u001b[1;33m,\u001b[0m\u001b[0mifft\u001b[0m\u001b[1;33m\u001b[0m\u001b[0m\n\u001b[0;32m     17\u001b[0m \u001b[1;32mimport\u001b[0m \u001b[0mos\u001b[0m\u001b[1;33m\u001b[0m\u001b[0m\n",
      "\u001b[1;32mE:\\anaconda\\lib\\importlib\\_bootstrap.py\u001b[0m in \u001b[0;36m_find_and_load\u001b[1;34m(name, import_)\u001b[0m\n",
      "\u001b[1;32mE:\\anaconda\\lib\\importlib\\_bootstrap.py\u001b[0m in \u001b[0;36m_find_and_load_unlocked\u001b[1;34m(name, import_)\u001b[0m\n",
      "\u001b[1;32mE:\\anaconda\\lib\\importlib\\_bootstrap.py\u001b[0m in \u001b[0;36m_load_unlocked\u001b[1;34m(spec)\u001b[0m\n",
      "\u001b[1;32mE:\\anaconda\\lib\\importlib\\_bootstrap.py\u001b[0m in \u001b[0;36mmodule_from_spec\u001b[1;34m(spec)\u001b[0m\n",
      "\u001b[1;32mE:\\anaconda\\lib\\importlib\\_bootstrap_external.py\u001b[0m in \u001b[0;36mcreate_module\u001b[1;34m(self, spec)\u001b[0m\n",
      "\u001b[1;31mKeyboardInterrupt\u001b[0m: "
     ]
    }
   ],
   "source": [
    "'''\n",
    "display_surfaceに関する処理\n",
    "参考\n",
    "https://qiita.com/mhangyo/items/76db7c6a6ebba6cf4330\n",
    "\n",
    "dtypeに関する資料\n",
    "http://discexuno.wp.xdomain.jp/machine-learning/python_fromfile_fromstring/\n",
    "https://docs.python.org/3/library/struct.html\n",
    "\n",
    "3Dfigure\n",
    "https://morvanzhou.github.io/tutorials/data-manipulation/plt/3-5-3d/\n",
    "'''\n",
    "import numpy as np\n",
    "import matplotlib.pyplot as plt\n",
    "from mpl_toolkits.mplot3d import Axes3D\n",
    "import cv2 \n",
    "from scipy.fftpack import fft,ifft\n",
    "import os\n",
    "import glob\n",
    "from pylab import *\n",
    "import math\n",
    "import matplotlib.animation as animation\n"
   ]
  },
  {
   "cell_type": "code",
   "execution_count": null,
   "metadata": {},
   "outputs": [],
   "source": [
    "'''\n",
    "付録ーーデータの展開法\n",
    "\n",
    "一つの実験についてのデータは四つのフォルダーに分けております。\n",
    "そのうち、「Height」と書いてるフォルダーに変異データが入ってます。\n",
    "そのフォルダーの中には縦方向（Y軸）の画素分のデータファイルがあります。\n",
    "一つのファイルには一行についての画像枚分のデータが横方向（X軸）の画素分重ねております。\n",
    "\n",
    "つまり、X行、Y棚、Fフレームのデータポイントを見つけるには\n",
    "Y個目のファイルを開いて、X×フレーム数（16666frames=500fps×33.3s）＋F　のインデックスでXYFのデータがあります。\n",
    "\n",
    "データ自体は64bit doubleです。バイトオーダーはビッグエンディアンです (byte order: big endian)。ヘッダーはないです。\n",
    "\n",
    "どうぞよろしくお願いします。\n",
    "ライオン\n",
    "\n",
    "他の設定に関する情報元(resolution/framerate/downsampling,etc)　　\\\\FS1\\Maedalab\\home\\junjie-hua\\wave\\fourD_sensor\\rawdata\\20191101\\Captures\n",
    "'''\n",
    "\n",
    "#f = open(r\"\\\\FS1\\Maedalab\\home\\junjie-hua\\wave\\fourD_sensor\\rawdata\\20191101\\test1_belly\\Height\\Height Row 0000.data\",mode='rb')#0列目\n",
    "#topo = np.fromfile(f, dtype='float64',sep='').reshape(256,20000) #float64の形で読み込むと，5120000の数列ができました．bellyの計測時間=20*1000msため，256*20000とreshapeしました．x軸上のサンプリング点が256個となります．\n",
    "\n",
    "\n"
   ]
  },
  {
   "cell_type": "code",
   "execution_count": null,
   "metadata": {},
   "outputs": [],
   "source": [
    "path = \"//FS1//Maedalab//home//junjie-hua//wave//fourD_sensor//rawdata//20191101//test2_display_surface//Height\" #belly上の計測データ元　\n",
    "files = os.listdir(path) #all files in the faulder　縦方向(y軸)のデータファイル\n",
    "s = []\n",
    "n = 0\n",
    "\n",
    "os.chdir(\"//FS1//Maedalab//home//junjie-hua//wave//fourD_sensor//rawdata//20191101//test2_display_surface//Height\") #local()関数を利用するためのコードです\n",
    "for file in glob.glob(\"*.data\"): \n",
    "    f = open(path + \"//\" + file ,mode='rb')#n列目　rb= read binary\n",
    "    name = 'topo'+str(n)  #一つのファイルには一行についての画像枚分のデータが横方向（X軸）の画素分のデータを変数topo+str(n)に入れます\n",
    "    locals()['topo'+str(n)]= np.fromfile(f, dtype='>d').reshape(256,20000) \n",
    "    # https://docs.python.org/3/library/struct.html\n",
    "    # \">\" means big endian, \"d\" means double. 5120000の数列ができました．bellyの計測時間=20*1000msため，256*20000とreshapeしました．x軸上のサンプリング点が256個となります．\n",
    "    print(file,\"has ended\")\n",
    "    n = n + 1 \n",
    "     \n",
    "print(n) #y軸上サンプリング点の数を数えます--252個(なぜ256ではない？)"
   ]
  },
  {
   "cell_type": "code",
   "execution_count": null,
   "metadata": {},
   "outputs": [],
   "source": [
    "'''\n",
    "color mapのアニメーション\n",
    "'''\n",
    "\n",
    "# (x,y,t)のデータを取り出すための関数 \n",
    "names = locals()\n",
    "def f(x,y,t): \n",
    "    k = names['topo'+str(y)][x,t]  #topo_str(y)の数列から，(x,t)のデータを取り出します\n",
    "    return k\n",
    "#print(f(255,251,19999))\n",
    "\n",
    "\n",
    "# X, Y value\n",
    "x = np.linspace(0,256-1,256)\n",
    "y = np.linspace(0,252-1,252)\n",
    "X,Y = np.meshgrid(x,y)  #サンプリング点の数：x軸256個， y軸252個\n",
    "\n",
    "\n",
    "Z = [[0 for i in range(X.shape[1])] for i in range(Y.shape[0])]\n",
    "\n",
    "print(\"start\")\n",
    "\n",
    "\n",
    "for t in range(20000):\n",
    "    if t % 100 == 0:\n",
    "        for i in range(X.shape[0]):\n",
    "            for j in range(X.shape[1]):\n",
    "                Z[i][j] = f(j,i,t)     \n",
    "        Z_array = np.array(Z)# turn list into array\n",
    "        \n",
    "       # color mapを作成する\n",
    "        plt.pcolormesh(X, Y, Z_array, cmap='hsv') # 等高線図の生成。cmapで色付けの規則を指定する。\n",
    "        #plt.pcolor(X, Y, Z, cmap='hsv') # 等高線図の生成。cmapで色付けの規則を指定する。\n",
    "\n",
    "        pp=plt.colorbar (orientation=\"vertical\") # カラーバーの表示 \n",
    "        pp.set_label(\"Label\", fontname=\"Arial\", fontsize=24) #カラーバーのラベル\n",
    "\n",
    "        plt.xlabel('X', fontsize=24)\n",
    "        plt.ylabel('Y', fontsize=24)\n",
    "        plt.title(\"T = %s ms\"% (t))\n",
    "\n",
    "        print(t)\n",
    "        plt.savefig(\"//FS1//Maedalab//home//junjie-hua//wave//fourD_sensor//rawdata//20191101//Captures//animation//color_map//test2_display_surface//\" + str(t) + \".png\")\n",
    "        plt. close()\n",
    "    else:\n",
    "        continue\n"
   ]
  },
  {
   "cell_type": "code",
   "execution_count": null,
   "metadata": {},
   "outputs": [],
   "source": [
    "print(\"end\")"
   ]
  }
 ],
 "metadata": {
  "kernelspec": {
   "display_name": "Python 3",
   "language": "python",
   "name": "python3"
  },
  "language_info": {
   "codemirror_mode": {
    "name": "ipython",
    "version": 3
   },
   "file_extension": ".py",
   "mimetype": "text/x-python",
   "name": "python",
   "nbconvert_exporter": "python",
   "pygments_lexer": "ipython3",
   "version": "3.6.4"
  }
 },
 "nbformat": 4,
 "nbformat_minor": 2
}
