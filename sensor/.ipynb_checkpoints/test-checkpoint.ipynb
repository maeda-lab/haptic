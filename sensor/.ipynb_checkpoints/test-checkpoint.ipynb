{
 "cells": [
  {
   "cell_type": "code",
   "execution_count": 6,
   "metadata": {},
   "outputs": [],
   "source": [
    "'''\n",
    "参考\n",
    "https://qiita.com/mhangyo/items/76db7c6a6ebba6cf4330\n",
    "'''\n",
    "import numpy as np\n",
    "import matplotlib.pyplot as plt"
   ]
  },
  {
   "cell_type": "code",
   "execution_count": 7,
   "metadata": {},
   "outputs": [],
   "source": [
    "#f = open(r\"C:\\Users\\saku_\\Documents\\GitHub\\haptic\\sensor\\Height_Row_0000.data\",mode='rb')\n",
    "f = open(r\"\\\\FS1\\Maedalab\\home\\junjie-hua\\wave\\fourD_sensor\\rawdata\\20191101\\test1_belly\\Height\\Height Row 0000.data\",mode='rb')#0列目\n",
    "topo = np.fromfile(f, dtype='>f',sep='').reshape(1024,10000)"
   ]
  },
  {
   "cell_type": "code",
   "execution_count": 8,
   "metadata": {},
   "outputs": [
    {
     "name": "stdout",
     "output_type": "stream",
     "text": [
      "[ 2.2779248e+00  2.2751367e-01 -2.0977938e+00 ...  3.9175480e-14\n",
      " -2.3392165e+00  1.3306899e+18]\n"
     ]
    }
   ],
   "source": [
    "#print(topo)\n",
    "print(topo[1])\n",
    "#print(topo[:1])"
   ]
  },
  {
   "cell_type": "code",
   "execution_count": 9,
   "metadata": {},
   "outputs": [
    {
     "data": {
      "image/png": "[encoded data removed]",
      "text/plain": [
       "<Figure size 432x288 with 1 Axes>"
      ]
     },
     "metadata": {},
     "output_type": "display_data"
    }
   ],
   "source": [
    "plt.plot(topo[1])#0行目，0~10000flame\n",
    "plt.show()"
   ]
  }
 ],
 "metadata": {
  "kernelspec": {
   "display_name": "Python 3",
   "language": "python",
   "name": "python3"
  },
  "language_info": {
   "codemirror_mode": {
    "name": "ipython",
    "version": 3
   },
   "file_extension": ".py",
   "mimetype": "text/x-python",
   "name": "python",
   "nbconvert_exporter": "python",
   "pygments_lexer": "ipython3",
   "version": "3.6.4"
  }
 },
 "nbformat": 4,
 "nbformat_minor": 2
}
