{
 "cells": [
  {
   "cell_type": "markdown",
   "metadata": {},
   "source": [
    "\n",
    "# 参考\n",
    "https://qiita.com/mhangyo/items/76db7c6a6ebba6cf4330\n",
    "\n",
    "dtypeに関する資料\n",
    "http://discexuno.wp.xdomain.jp/machine-learning/python_fromfile_fromstring/\n",
    "https://docs.python.org/3/library/struct.html\n",
    "\n",
    "3Dfigure\n",
    "https://morvanzhou.github.io/tutorials/data-manipulation/plt/3-5-3d/\n",
    "\n",
    "時空間フィルタリング\n",
    "https://home.hiroshima-u.ac.jp/kikuuwe/pub/05_acmtap.pdf\n",
    "http://www.eeengblog.com/engineer/%E3%83%95%E3%83%BC%E3%83%AA%E3%82%A8%E5%A4%89%E6%8F%9B%E3%82%92%E4%BD%BF%E3%81%A3%E3%81%9F%E7%94%BB%E5%83%8F%E8%A7%A3%E6%9E%90\n",
    "\n",
    "\n",
    "\n",
    "# 付録ーーデータの展開法\n",
    "\n",
    "一つの実験についてのデータは四つのフォルダーに分けております。\n",
    "そのうち、「Height」と書いてるフォルダーに変異データが入ってます。\n",
    "そのフォルダーの中には縦方向（Y軸）の画素分のデータファイルがあります。\n",
    "一つのファイルには一行についての画像枚分のデータが横方向（X軸）の画素分重ねております。\n",
    "\n",
    "つまり、X行、Y棚、Fフレームのデータポイントを見つけるには\n",
    "Y個目のファイルを開いて、X×フレーム数（16666frames=500fps×33.3s）＋F　のインデックスでXYFのデータがあります。\n",
    "\n",
    "データ自体は64bit doubleです。バイトオーダーはビッグエンディアンです (byte order: big endian)。ヘッダーはないです。\n",
    "\n",
    "\n",
    "他の設定に関する情報元(resolution/framerate/downsampling,etc)　　\\\\FS1\\Maedalab\\home\\junjie-hua\\wave\\fourD_sensor\\rawdata\\20191101\\Captures\n",
    "\n",
    "\n",
    "f = open(r\"\\\\FS1\\Maedalab\\home\\junjie-hua\\wave\\fourD_sensor\\rawdata\\20191101\\test1_belly\\Height\\Height Row 0000.data\",mode='rb')#0列目\n",
    "topo = np.fromfile(f, dtype='float64',sep='').reshape(256,20000) #float64の形で読み込むと，5120000の数列ができました．bellyの計測時間=20*1000msため，256*20000とreshapeしました．x軸上のサンプリング点が256個となります．\n"
   ]
  },
  {
   "cell_type": "code",
   "execution_count": 1,
   "metadata": {},
   "outputs": [],
   "source": [
    "import numpy as np\n",
    "import matplotlib.pyplot as plt\n",
    "from mpl_toolkits.mplot3d import Axes3D\n",
    "import cv2 \n",
    "from scipy.fftpack import fft,ifft\n",
    "import scipy.fftpack as sfft\n",
    "import os\n",
    "import glob\n",
    "from pylab import *\n",
    "import math\n",
    "import matplotlib.animation as animation\n",
    "from ipywidgets import IntProgress\n",
    "from IPython.display import display"
   ]
  },
  {
   "cell_type": "code",
   "execution_count": 3,
   "metadata": {},
   "outputs": [
    {
     "name": "stdout",
     "output_type": "stream",
     "text": [
      "reading files\n",
      "end reading\n",
      "252 y-axis files\n"
     ]
    }
   ],
   "source": [
    "path = \"//FS1//Maedalab//home//junjie-hua//wave//fourD_sensor//rawdata//20191101//test1_belly//Height\" #belly上の計測データ元　\n",
    "#path = \"C://Users//huaju//Documents//data//fourD_sensor//20191101//test1_belly//Height\" #belly上の計測データ元　\n",
    "\n",
    "files = os.listdir(path) #all files in the faulder　縦方向(y軸)のデータファイル\n",
    "s = []\n",
    "ynum = 0\n",
    "\n",
    "print(\"reading files\")\n",
    "os.chdir(\"//FS1//Maedalab//home//junjie-hua//wave//fourD_sensor//rawdata//20191101//test1_belly//Height\") #local()関数を利用するためのコードです\n",
    "#os.chdir(\"C://Users//huaju//Documents//data//fourD_sensor//20191101//test1_belly//Height\") #local()関数を利用するためのコードです\n",
    "for file in glob.glob(\"*.data\"): \n",
    "    f = open(path + \"//\" + file ,mode='rb')#n列目　rb= read binary\n",
    "    name = 'topo'+str(ynum)  #一つのファイルには一行についての画像枚分のデータが横方向（X軸）の画素分のデータを変数topo+str(n)に入れます\n",
    "    locals()['topo'+str(ynum)]= np.fromfile(f, dtype='>d').reshape(256,20000) \n",
    "    # https://docs.python.org/3/library/struct.html\n",
    "    # \">\" means big endian, \"d\" means double. 5120000の数列ができました．bellyの計測時間=20*1000msため，256*20000とreshapeしました．x軸上のサンプリング点が256個となります．\n",
    "    #print(file,\"has ended\")\n",
    "    ynum = ynum + 1 \n",
    "\n",
    "print(\"end reading\")\n",
    "print(ynum ,\"y-axis files\") #y軸上サンプリング点の数を数えます--252個\n",
    "xnum = 256\n",
    "T = 20000"
   ]
  },
  {
   "cell_type": "code",
   "execution_count": 4,
   "metadata": {},
   "outputs": [
    {
     "name": "stdout",
     "output_type": "stream",
     "text": [
      "0.743598271334937\n"
     ]
    }
   ],
   "source": [
    "# (x,y,t)のデータを取り出すための関数 \n",
    "names = locals()\n",
    "def f(x,y,t): \n",
    "    k = names['topo'+str(y)][x,t]  #topo_str(y)の数列から，(x,t)のデータを取り出します\n",
    "    return k\n",
    "#print(f(255,251,19999))\n",
    "print(f(0,0,0))\n",
    "\n",
    "\n",
    "# X, Y value\n",
    "x = np.linspace(0,xnum-1,xnum)\n",
    "y = np.linspace(0,ynum-1,ynum)\n",
    "X,Y = np.meshgrid(x,y)  #サンプリング点の数：x軸256個， y軸252個\n",
    "#Z = [[0 for i in range(X.shape[1])] for i in range(Y.shape[0])] #Z--y行x列\n",
    "Z = [[0 for row in range(xnum)] for col in range(ynum)]  #Z--x列y行    e.g. arr2D = [[ 0 for col in range(10) ] for row in range(4) ]-- 10列4行"
   ]
  },
  {
   "cell_type": "markdown",
   "metadata": {},
   "source": [
    "## color map animation "
   ]
  },
  {
   "cell_type": "code",
   "execution_count": null,
   "metadata": {},
   "outputs": [],
   "source": [
    "\"\"\"\n",
    "print(\" color map start\")\n",
    "for t in range(T):\n",
    "    if t % 100 == 0:\n",
    "        for y in range(ynum): #y axis\n",
    "            for x in range(xnum): # x axis\n",
    "                Z[y][x] = f(x,y,t)    \n",
    "        Z_array = np.array(Z)# turn list into array\n",
    "        \n",
    "        #color mapを作成する\n",
    "        #plt.pcolormesh(X, Y, Z_array, cmap='hsv') # 等高線図の生成。cmapで色付けの規則を指定する。\n",
    "        plt.pcolormesh(X, Y, Z_array, cmap='jet') # 等高線図の生成。cmapで色付けの規則を指定する。\n",
    "\n",
    "\n",
    "        pp=plt.colorbar (orientation=\"vertical\") # カラーバーの表示 \n",
    "\n",
    "        plt.xlabel('X', fontsize=18)\n",
    "        plt.ylabel('Y', fontsize=18)\n",
    "        plt.title(\"T = %s ms\"% (t))\n",
    "\n",
    "        #print(t)\n",
    "        #plt.savefig(\"//FS1//Maedalab//home//junjie-hua//wave//fourD_sensor//rawdata//20191101//Captures//animation//color_map//test1_belly//total//\" + str(t) + \".png\")\n",
    "        plt.savefig(\"C://Users//huaju//Documents//data//fourD_sensor//20191101//Captures//animation//color_map//test1_belly//global//\" + str(t) + \".png\")\n",
    "        #plt.show()\n",
    "        plt. close()\n",
    "    else:\n",
    "        continue\n",
    "        \n",
    "print(\"color map end\")\n",
    "\"\"\""
   ]
  },
  {
   "cell_type": "markdown",
   "metadata": {},
   "source": [
    "## 時空間フィルタリング"
   ]
  },
  {
   "cell_type": "code",
   "execution_count": null,
   "metadata": {},
   "outputs": [],
   "source": [
    "\"\"\"\n",
    "0-5600ms  pure breath\n",
    "\n",
    "16400-19999ms pure breath\n",
    "\n",
    "12/18 sensor side+display side　一直線上(left right二本　振動子につくとついていない方)のfftを見たい \n",
    "まず直線上で決着付ける　振動が見えるなら，画像全体fftを見る\n",
    "\n",
    "\n",
    "\"\"\"\n",
    "xmin = 0\n",
    "xmax = 255\n",
    "ymin =0\n",
    "ymax =251\n",
    "tmin = 5000\n",
    "tmax = 10000\n",
    "\n",
    "# Initialize a progess bar\n",
    "progress = IntProgress()\n",
    "progress.max = tmax - tmin\n",
    "progress.description = '(Init)'\n",
    "display(progress)\n",
    "\n",
    "\n",
    "\n",
    "\n",
    "for t in range(tmin,tmax):\n",
    "    for y in range(ymin,ymax):#y軸\n",
    "        for x in range(xmin,xmax):#x軸\n",
    "            Z[y-ymin][x-xmin] = f(x,y,t) - f(x,y,0)\n",
    "    Z_array = np.array(Z)# turn list into array\n",
    "    h,w=Z_array.shape  #h、wにGのサイズを代入\n",
    "    fftsize=max(h,w)  #フーリエ変換を行う際の行列のサイズを決定\n",
    "    z_fourier=sfft.fftshift(sfft.fft2(Z_array,(fftsize,fftsize)))#Gを高速フーリエ変換\n",
    "    plt.plot(np.log(np.abs(z_fourier)))\n",
    "    plt.title(\"T = %s ms\"% (t))\n",
    "             \n",
    "    #plt.savefig(\"//FS1//Maedalab//home//junjie-hua//wave//fourD_sensor//rawdata//20191101//Captures//animation//color_map//test3_sensor//narrow//\" + str(t) + \".png\")\n",
    "    plt.savefig(\"C://Users//huaju//Documents//data//fourD_sensor//20191101//Captures//animation//color_map//test1_belly//breath//\" + str(t) + \".png\")\n",
    "    #plt.show()\n",
    "    plt. close()\n",
    "    progress.value += 1\n",
    "    progress.description = '%s'%(t)\n",
    "\n",
    "\n",
    "\n",
    "progress.description = '(Done)'\n",
    "\n",
    "\n",
    "\n",
    "\n",
    "\n",
    "\n",
    "\n",
    "\"\"\"\n",
    "A=np.ones((fftsize,fftsize))  #ノイズ成分を除去するためのフィルタを作成\n",
    "A[350:,:]=0#スペクトルより（350～,　）成分を除去\n",
    "A[:250,:]=0  #スペクトルより（～250,　）成分を除去\n",
    "A[:,:250]=0  #スペクトルより（　,～250）成分を除去\n",
    "A[:,350:]=0  #スペクトルより（　,350～）成分を除去\n",
    "\n",
    "G2=np.uint8(np.abs(sfft.ifft2(sfft.fftshift(z*A))))\n",
    "plt.imshow(G2[:h,:w],cmap='gray')\n",
    "plt.show()\n",
    "\"\"\"\n"
   ]
  }
 ],
 "metadata": {
  "kernelspec": {
   "display_name": "Python 3",
   "language": "python",
   "name": "python3"
  },
  "language_info": {
   "codemirror_mode": {
    "name": "ipython",
    "version": 3
   },
   "file_extension": ".py",
   "mimetype": "text/x-python",
   "name": "python",
   "nbconvert_exporter": "python",
   "pygments_lexer": "ipython3",
   "version": "3.6.4"
  }
 },
 "nbformat": 4,
 "nbformat_minor": 2
}
