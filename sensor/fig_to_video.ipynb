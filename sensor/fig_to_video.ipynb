{
 "cells": [
  {
   "cell_type": "code",
   "execution_count": 1,
   "metadata": {},
   "outputs": [
    {
     "name": "stdout",
     "output_type": "stream",
     "text": [
      "end\n"
     ]
    }
   ],
   "source": [
    "\"\"\"\n",
    "https://blog.csdn.net/Bugest/article/details/81119980\n",
    "\"\"\"\n",
    "# -*- coding: UTF-8 -*-\n",
    "import os\n",
    "import cv2\n",
    "import time\n",
    " \n",
    "\n",
    "def picvideo(path,size):\n",
    "    #path = \"//FS1//Maedalab//home//junjie-hua//wave//fourD_sensor//rawdata//20191101//Captures//animation//\"\n",
    "    filelist = os.listdir(path) \n",
    " \n",
    "    fps = 10\n",
    "    file_path = \"//FS1//Maedalab//home//junjie-hua//wave//fourD_sensor//rawdata//20191101//Captures//animation//color_map//\" + \"video\" + \".mp4\"#export\n",
    "    fourcc = cv2.VideoWriter_fourcc('D', 'I', 'V', 'X')#encode\n",
    " \n",
    "    video = cv2.VideoWriter( file_path, fourcc, fps, size )\n",
    " \n",
    "    for item in filelist:\n",
    "        if item.endswith('.png'):   \n",
    "            item = path + '/' + item \n",
    "            img = cv2.imread(item)  \n",
    "            video.write(img)        \n",
    " \n",
    "    video.release() \n",
    "\n",
    "\n",
    "    \n",
    "picvideo(r'//FS1//Maedalab//home//junjie-hua//wave//fourD_sensor//rawdata//20191101//Captures//animation//color_map//',(432,288))\n",
    "print(\"end\")\n",
    " \n"
   ]
  }
 ],
 "metadata": {
  "kernelspec": {
   "display_name": "Python 3",
   "language": "python",
   "name": "python3"
  },
  "language_info": {
   "codemirror_mode": {
    "name": "ipython",
    "version": 3
   },
   "file_extension": ".py",
   "mimetype": "text/x-python",
   "name": "python",
   "nbconvert_exporter": "python",
   "pygments_lexer": "ipython3",
   "version": "3.6.4"
  }
 },
 "nbformat": 4,
 "nbformat_minor": 2
}
