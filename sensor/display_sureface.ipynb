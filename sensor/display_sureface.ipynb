{
 "cells": [
  {
   "cell_type": "code",
   "execution_count": 1,
   "metadata": {},
   "outputs": [],
   "source": [
    "'''\n",
    "display_surfaceに関する処理\n",
    "参考\n",
    "https://qiita.com/mhangyo/items/76db7c6a6ebba6cf4330\n",
    "\n",
    "dtypeに関する資料\n",
    "http://discexuno.wp.xdomain.jp/machine-learning/python_fromfile_fromstring/\n",
    "https://docs.python.org/3/library/struct.html\n",
    "\n",
    "3Dfigure\n",
    "https://morvanzhou.github.io/tutorials/data-manipulation/plt/3-5-3d/\n",
    "'''\n",
    "import numpy as np\n",
    "import matplotlib.pyplot as plt\n",
    "from mpl_toolkits.mplot3d import Axes3D\n",
    "import cv2 \n",
    "from scipy.fftpack import fft,ifft\n",
    "import os\n",
    "import glob\n",
    "from pylab import *\n",
    "import math\n",
    "import matplotlib.animation as animation\n"
   ]
  },
  {
   "cell_type": "code",
   "execution_count": 2,
   "metadata": {},
   "outputs": [
    {
     "data": {
      "text/plain": [
       "'\\n付録ーーデータの展開法\\n\\n一つの実験についてのデータは四つのフォルダーに分けております。\\nそのうち、「Height」と書いてるフォルダーに変異データが入ってます。\\nそのフォルダーの中には縦方向（Y軸）の画素分のデータファイルがあります。\\n一つのファイルには一行についての画像枚分のデータが横方向（X軸）の画素分重ねております。\\n\\nつまり、X行、Y棚、Fフレームのデータポイントを見つけるには\\nY個目のファイルを開いて、X×フレーム数（16666frames=500fps×33.3s）＋F\\u3000のインデックスでXYFのデータがあります。\\n\\nデータ自体は64bit doubleです。バイトオーダーはビッグエンディアンです (byte order: big endian)。ヘッダーはないです。\\n\\nどうぞよろしくお願いします。\\nライオン\\n\\n他の設定に関する情報元(resolution/framerate/downsampling,etc)\\u3000\\u3000\\\\FS1\\\\Maedalab\\\\home\\\\junjie-hua\\\\wave\\x0courD_sensor\\rawdata\\x8191101\\\\Captures\\n'"
      ]
     },
     "execution_count": 2,
     "metadata": {},
     "output_type": "execute_result"
    }
   ],
   "source": [
    "'''\n",
    "付録ーーデータの展開法\n",
    "\n",
    "一つの実験についてのデータは四つのフォルダーに分けております。\n",
    "そのうち、「Height」と書いてるフォルダーに変異データが入ってます。\n",
    "そのフォルダーの中には縦方向（Y軸）の画素分のデータファイルがあります。\n",
    "一つのファイルには一行についての画像枚分のデータが横方向（X軸）の画素分重ねております。\n",
    "\n",
    "つまり、X行、Y棚、Fフレームのデータポイントを見つけるには\n",
    "Y個目のファイルを開いて、X×フレーム数（16666frames=500fps×33.3s）＋F　のインデックスでXYFのデータがあります。\n",
    "\n",
    "データ自体は64bit doubleです。バイトオーダーはビッグエンディアンです (byte order: big endian)。ヘッダーはないです。\n",
    "\n",
    "どうぞよろしくお願いします。\n",
    "ライオン\n",
    "\n",
    "他の設定に関する情報元(resolution/framerate/downsampling,etc)　　\\\\FS1\\Maedalab\\home\\junjie-hua\\wave\\fourD_sensor\\rawdata\\20191101\\Captures\n",
    "'''\n",
    "\n",
    "#f = open(r\"\\\\FS1\\Maedalab\\home\\junjie-hua\\wave\\fourD_sensor\\rawdata\\20191101\\test1_belly\\Height\\Height Row 0000.data\",mode='rb')#0列目\n",
    "#topo = np.fromfile(f, dtype='float64',sep='').reshape(256,20000) #float64の形で読み込むと，5120000の数列ができました．bellyの計測時間=20*1000msため，256*20000とreshapeしました．x軸上のサンプリング点が256個となります．\n",
    "\n",
    "\n"
   ]
  },
  {
   "cell_type": "code",
   "execution_count": 3,
   "metadata": {},
   "outputs": [
    {
     "name": "stdout",
     "output_type": "stream",
     "text": [
      "reading files\n",
      "505 y-axis files\n"
     ]
    }
   ],
   "source": [
    "#path = \"//FS1//Maedalab//home//junjie-hua//wave//fourD_sensor//rawdata//20191101//test2_display_surface//Height\" #display上の計測データ元　\n",
    "path = \"C://Users//huaju//Documents//data//fourD_sensor//20191101//test2_display//Height\" #display上の計測データ元　\n",
    "\n",
    "files = os.listdir(path) #all files in the faulder　縦方向(y軸)のデータファイル\n",
    "s = []\n",
    "xnum = 512\n",
    "T = 16666\n",
    "ynum = 0\n",
    "\n",
    "#os.chdir(\"//FS1//Maedalab//home//junjie-hua//wave//fourD_sensor//rawdata//20191101//test2_display_surface//Height\") #local()関数を利用するためのコードです\n",
    "os.chdir(\"C://Users//huaju//Documents//data//fourD_sensor//20191101//test2_display//Height\") #local()関数を利用するためのコードです\n",
    "\n",
    "print(\"reading files\")\n",
    "for file in glob.glob(\"*.data\"): \n",
    "    f = open(path + \"//\" + file ,mode='rb')#n列目　rb= read binary\n",
    "    name = 'topo'+str(ynum)  #一つのファイルには一行についての画像枚分のデータが横方向（X軸）の画素分のデータを変数topo+str(n)に入れます\n",
    "    locals()['topo'+str(ynum)]= np.fromfile(f, dtype='>d').reshape(xnum,T) \n",
    "    # https://docs.python.org/3/library/struct.html\n",
    "    # \">\" means big endian, \"d\" means double. 8532992の数列ができました．\n",
    "    #print(file,\"has ended\")\n",
    "    ynum = ynum + 1 \n",
    "     \n",
    "print(ynum ,\"y-axis files\") #y軸上サンプリング点の数を数えます--505個\n"
   ]
  },
  {
   "cell_type": "code",
   "execution_count": 4,
   "metadata": {},
   "outputs": [
    {
     "name": "stdout",
     "output_type": "stream",
     "text": [
      " color map start\n"
     ]
    },
    {
     "name": "stderr",
     "output_type": "stream",
     "text": [
      "C:\\Users\\huaju\\Miniconda3\\lib\\site-packages\\ipykernel_launcher.py:40: MatplotlibDeprecationWarning: Adding an axes using the same arguments as a previous axes currently reuses the earlier instance.  In a future version, a new instance will always be created and returned.  Meanwhile, this warning can be suppressed, and the future behavior ensured, by passing a unique label to each axes instance.\n"
     ]
    },
    {
     "name": "stdout",
     "output_type": "stream",
     "text": [
      "color map end\n"
     ]
    }
   ],
   "source": [
    "'''\n",
    "color mapのアニメーション\n",
    "'''\n",
    "\n",
    "# (x,y,t)のデータを取り出すための関数 \n",
    "names = locals()\n",
    "def f(x,y,t): \n",
    "    k = names['topo'+str(y)][x,t]  #topo_str(y)の数列から，(x,t)のデータを取り出します\n",
    "    return k\n",
    "#print(f(511,504,16666-1))\n",
    "#print(f(505,0,0))\n",
    "\n",
    "\n",
    "# X, Y value\n",
    "x = np.linspace(0,xnum-1,xnum)\n",
    "y = np.linspace(0,ynum-1,ynum)\n",
    "X,Y = np.meshgrid(x,y)  #サンプリング点の数：x軸512個， y軸505個\n",
    "\n",
    "\n",
    "#Z = [[0 for i in range(X.shape[1])] for i in range(Y.shape[0])]\n",
    "Z = [[0 for row in range(xnum)] for col in range(ynum)]  #Z--x列y行    e.g. arr2D = [[ 0 for col in range(10) ] for row in range(4) ]-- 10列4行\n",
    "\n",
    "\n",
    "print(\" color map start\")\n",
    "for t in range(T):\n",
    "    if t % 100 == 0:\n",
    "        for y in range(ynum):#y軸\n",
    "            for x in range(xnum):#x軸\n",
    "                #print(x,y,t)\n",
    "                Z[y][x] = f(x,y,t)     \n",
    "        Z_array = np.array(Z)# turn list into array\n",
    "        \n",
    "       # color mapを作成する\n",
    "        plt.pcolormesh(X, Y, Z_array, cmap='jet',vmin=-3,vmax=3) \n",
    "        pp=plt.colorbar (orientation=\"vertical\") # カラーバーの表示 \n",
    "\n",
    "        plt.xlabel('X', fontsize=18)\n",
    "        plt.ylabel('Y', fontsize=18)\n",
    "        plt.title(\"T = %s ms\"% (t))\n",
    "        plt.axes().set_aspect('equal')\n",
    "\n",
    "        #print(t)\n",
    "        #plt.savefig(\"//FS1//Maedalab//home//junjie-hua//wave//fourD_sensor//rawdata//20191101//Captures//animation//color_map//test2_display_surface//\" + str(t) + \".png\")\n",
    "        plt.savefig(\"C://Users//huaju//Documents//data//fourD_sensor//20191101//Captures//animation//color_map//test2_display//global//\" + str(t) + \".png\")\n",
    "        #plt.show()\n",
    "        plt. close()\n",
    "    else:\n",
    "        continue\n",
    "\n",
    "        \n",
    "print(\"color map end\")"
   ]
  }
 ],
 "metadata": {
  "kernelspec": {
   "display_name": "Python 3",
   "language": "python",
   "name": "python3"
  },
  "language_info": {
   "codemirror_mode": {
    "name": "ipython",
    "version": 3
   },
   "file_extension": ".py",
   "mimetype": "text/x-python",
   "name": "python",
   "nbconvert_exporter": "python",
   "pygments_lexer": "ipython3",
   "version": "3.7.4"
  }
 },
 "nbformat": 4,
 "nbformat_minor": 2
}
